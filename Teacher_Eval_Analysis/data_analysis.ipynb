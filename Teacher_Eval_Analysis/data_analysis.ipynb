{
 "cells": [
  {
   "cell_type": "markdown",
   "metadata": {},
   "source": [
    "# Student Evaluation Data Visualization\n",
    "### _Diverging Stacked Bar Charts for Rose-Hulman Course Evaluation Data_\n",
    "Author: Anna Scott"
   ]
  },
  {
   "cell_type": "markdown",
   "metadata": {},
   "source": [
    "**Chart Design References:**\n",
    "* Heiberger, Richard M., and Naomi B. Robbins. \"Design of diverging stacked bar charts for Likert scales and other applications.\" _Journal of Statistical Software_ 57.5 (2014): 1-32.\n",
    "* Robbins, Naomi B., and Richard M. Heiberger. \"Plotting Likert and other rating scales.\" _Proceedings of the 2011 Joint Statistical Meeting._ 2011.\n",
    "\n",
    "**Special thanks to:**\n",
    "* Professor Richard Layton for his previous data visualization research\n",
    "* [Stephanie Evergreen](http://stephanieevergreen.com/diverging-stacked-bars/ \"How to Make a Diverging Stacked Bar Chart in Excel\") for her transparent buffer method"
   ]
  },
  {
   "cell_type": "markdown",
   "metadata": {},
   "source": [
    "**Instructions:**  \n",
    "This notebook can be run and modified on its own, apart from the main dashboard notebook. However, Course_Evaluation_Data_Dashboard.ipynb and nbrun.py use this notebook for analysis, so **_please be cautious_** when modifying code other than the INSTRUCTOR DATA INPUT cell.\n",
    "\n",
    "To use this notebook on its own, modify the INSTRUCTOR DATA INPUT cell to reference your .csv data file and change the aggregation options as necessary. Then go to **Cell --> Run All** to obtain your data visualization at the end of the notebook."
   ]
  },
  {
   "cell_type": "code",
   "execution_count": 1,
   "metadata": {
    "collapsed": false,
    "hideCode": false,
    "hidePrompt": false
   },
   "outputs": [],
   "source": [
    "%matplotlib inline\n",
    "import pandas as pd\n",
    "import matplotlib\n",
    "matplotlib.style.use('seaborn-poster')\n",
    "import numpy as np"
   ]
  },
  {
   "cell_type": "code",
   "execution_count": 2,
   "metadata": {
    "collapsed": true,
    "hidePrompt": false
   },
   "outputs": [],
   "source": [
    "# INSTRUCTOR DATA INPUT\n",
    "data = pd.DataFrame.from_csv('Shibberu_CourseEvalData_Raw_20160616.csv',index_col=None)\n",
    "course = None # must be a String or None\n",
    "year = None # must be a String or None"
   ]
  },
  {
   "cell_type": "code",
   "execution_count": 3,
   "metadata": {
    "collapsed": false,
    "hideCode": false,
    "hidePrompt": false
   },
   "outputs": [],
   "source": [
    "data = data[['SURVEY_NAME','COURSE','QUESTION_NO','RESPONSE_1_COUNT','RESPONSE_2_COUNT','RESPONSE_3_COUNT',\n",
    "             'RESPONSE_4_COUNT','RESPONSE_5_COUNT']] # only taking the needed columns\n",
    "\n",
    "data = data[data.QUESTION_NO < 4] # removing non-typical survey questions\n",
    "\n",
    "data.columns = ['SURVEY_NAME','COURSE','QUESTION_NO','R1','R2','R3','R4','R5'] # shortening data headers"
   ]
  },
  {
   "cell_type": "code",
   "execution_count": 4,
   "metadata": {
    "collapsed": true
   },
   "outputs": [],
   "source": [
    "if course is not None:\n",
    "    data = data[data.COURSE.str.startswith(course)]\n",
    "if year is not None:\n",
    "    data = data[data.SURVEY_NAME.str.contains('_' + year)]"
   ]
  },
  {
   "cell_type": "code",
   "execution_count": 5,
   "metadata": {
    "collapsed": false,
    "hideCode": false,
    "hidePrompt": false
   },
   "outputs": [],
   "source": [
    "# question description dictionary\n",
    "questions = {'1.04':'Quality of learning',\n",
    "             '2.03':'Lab and course reinforce',\n",
    "             '2.06':'Lighter Workload',\n",
    "             '2.07':'Course overall',\n",
    "             '3.02':'Professor well-prepared',\n",
    "             '3.04':'Helpful teaching methods',\n",
    "             '3.07':'Professor availability',\n",
    "             '3.09':\"Professor's interest in topic\",\n",
    "             '3.1':'Professor overall'}"
   ]
  },
  {
   "cell_type": "code",
   "execution_count": 6,
   "metadata": {
    "collapsed": true,
    "hideCode": false,
    "hidePrompt": false
   },
   "outputs": [],
   "source": [
    "# total response counts/question\n",
    "lickert_counts = data.drop(['SURVEY_NAME','COURSE'],1).groupby('QUESTION_NO').sum()\n",
    "\n",
    "# total responses per question (used for percentages chart)\n",
    "lickert_counts['TOTAL'] = lickert_counts.sum(axis=1)\n",
    "lickert_counts = lickert_counts.reset_index()"
   ]
  },
  {
   "cell_type": "code",
   "execution_count": 7,
   "metadata": {
    "collapsed": false,
    "hideCode": false,
    "hidePrompt": false
   },
   "outputs": [],
   "source": [
    "# creating percentage data from raw count totals\n",
    "lickert_percents = pd.DataFrame()\n",
    "lickert_percents['QUESTION_NO'] = lickert_counts.QUESTION_NO\n",
    "lickert_percents['R5%'] = lickert_counts.R5 / lickert_counts.TOTAL * 100\n",
    "lickert_percents['R4%'] = lickert_counts.R4 / lickert_counts.TOTAL * 100\n",
    "lickert_percents['R3%'] = lickert_counts.R3 / lickert_counts.TOTAL * 100\n",
    "lickert_percents['R2%'] = lickert_counts.R2 / lickert_counts.TOTAL * 100\n",
    "lickert_percents['R1%'] = lickert_counts.R1 / lickert_counts.TOTAL * 100\n",
    "# lickert_percents.sum(axis=1) # optional sanity check; should all be 100"
   ]
  },
  {
   "cell_type": "code",
   "execution_count": 8,
   "metadata": {
    "collapsed": false,
    "hideCode": false,
    "hidePrompt": false
   },
   "outputs": [],
   "source": [
    "# creating column of buffer values to offset bars\n",
    "sums = lickert_percents['R5%'] + lickert_percents['R4%'] + 0.5 * lickert_percents['R3%']\n",
    "maximum = sums.max()\n",
    "buffer = maximum - sums\n",
    "lickert_percents.insert(1,'BUFFER',buffer)"
   ]
  },
  {
   "cell_type": "code",
   "execution_count": 9,
   "metadata": {
    "collapsed": false,
    "hideCode": false,
    "hidePrompt": false
   },
   "outputs": [],
   "source": [
    "# sorting bars by 'agree' percentage and adding Lickert response headers\n",
    "lp = lickert_percents.copy()#sort_values(by='BUFFER')\n",
    "lp.columns = ['QUESTION_NO', 'BUFFER', 'Strongly Disagree', 'Disagree',\n",
    "              'Neutral', 'Agree', 'Strongly Agree']"
   ]
  },
  {
   "cell_type": "code",
   "execution_count": 17,
   "metadata": {
    "collapsed": false,
    "hideCode": false,
    "hidePrompt": false
   },
   "outputs": [
    {
     "data": {
      "image/png": "[encoded data removed]",
      "text/plain": [
       "<matplotlib.figure.Figure at 0x7f6ab6227470>"
      ]
     },
     "metadata": {},
     "output_type": "display_data"
    }
   ],
   "source": [
    "# custom colormap for buffer and diverging colors\n",
    "cm = matplotlib.colors.ListedColormap([[1, 1, 1, 0], # transparent buffer\n",
    "                                [0.6, 0.4, 0.1], [0.9, 0.75, 0.5], '0.85',\n",
    "                                [0.5, 0.8, 0.75], [0, 0.5, 0.45]])\n",
    "\n",
    "# creating initial stacked bar chart using custom colormap\n",
    "p = lp.plot.barh(x='QUESTION_NO',stacked=True,colormap=cm,\n",
    "                 edgecolor='none',figsize=(10.84,5),width=0.85)\n",
    "\n",
    "# remove BUFFER from legend\n",
    "lines, labels = p.get_legend_handles_labels()\n",
    "p.legend(lines[1:], labels[1:], loc='upper left', fontsize=13, frameon=False)\n",
    "\n",
    "# set x-axis tick locations and values\n",
    "xvals = []\n",
    "for x in range(-2,6):\n",
    "    xvals.append(maximum+(x*20))\n",
    "\n",
    "p.set_xticks(xvals)\n",
    "p.set_xlim(xvals[0]-20, xvals[len(xvals)-1]+5) # uniform x-axis range\n",
    "p.set_xticklabels(['{:3.0f}%'.format(np.absolute(x-maximum)) for x in xvals])\n",
    "\n",
    "# set y-axis values and new line location\n",
    "yvals = p.get_yticklabels()\n",
    "p.set_yticklabels(['{}'.format(questions.get(y.get_text())) for y in yvals])\n",
    "p.set_ylabel('',fontsize=0) # get rid of y-axis label\n",
    "p.axvline(maximum, color='0.5', linewidth=2).set_zorder(0)"
   ]
  }
 ],
 "metadata": {
  "kernelspec": {
   "display_name": "Python 3",
   "language": "python",
   "name": "python3"
  },
  "language_info": {
   "codemirror_mode": {
    "name": "ipython",
    "version": 3
   },
   "file_extension": ".py",
   "mimetype": "text/x-python",
   "name": "python",
   "nbconvert_exporter": "python",
   "pygments_lexer": "ipython3",
   "version": "3.5.1"
  },
  "widgets": {
   "state": {},
   "version": "1.1.2"
  }
 },
 "nbformat": 4,
 "nbformat_minor": 0
}
