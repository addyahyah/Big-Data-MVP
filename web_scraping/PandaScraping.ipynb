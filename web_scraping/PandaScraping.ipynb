{
 "cells": [
  {
   "cell_type": "code",
   "execution_count": 1,
   "metadata": {
    "collapsed": true
   },
   "outputs": [],
   "source": [
    "import urllib2, base64\n",
    "import pandas as pd"
   ]
  },
  {
   "cell_type": "code",
   "execution_count": 2,
   "metadata": {
    "collapsed": false
   },
   "outputs": [],
   "source": [
    "f = open('cred.txt','r')\n",
    "username = f.readline()\n",
    "password = f.readline()\n",
    "f.close()\n",
    "username = username.strip()\n",
    "password = password.strip()\n",
    "\n",
    "#This connects to the webpage and read the html text\n",
    "def readUrl(url):\n",
    "    request = urllib2.Request(url)\n",
    "    base64string = base64.encodestring('%s:%s' % (username, password)).replace('\\n', '')\n",
    "    request.add_header(\"Authorization\", \"Basic %s\" % base64string)   \n",
    "    result = urllib2.urlopen(request)\n",
    "    htmltext = result.read()\n",
    "    return htmltext\n",
    "\n",
    "def convertFirstRowToHeader(df):\n",
    "    df.columns = df.iloc[0]\n",
    "    df = df[1:]\n",
    "    return df"
   ]
  },
  {
   "cell_type": "code",
   "execution_count": 3,
   "metadata": {
    "collapsed": false
   },
   "outputs": [],
   "source": [
    "f = open('ShibberuCourses.txt','r')\n",
    "line = f.readline()"
   ]
  },
  {
   "cell_type": "code",
   "execution_count": 4,
   "metadata": {
    "collapsed": false
   },
   "outputs": [],
   "source": [
    "df = pd.DataFrame()\n",
    "# for k in range(0,3):\n",
    "while line:\n",
    "    number = line.split(',')\n",
    "    url = 'https://prodweb.rose-hulman.edu/regweb-cgi/reg-sched.pl?type=Roster&termcode=' + number[0] + '&view=tgrid&id=' + number[1]\n",
    "    htmltext = readUrl(url)\n",
    "    course_detail = pd.read_html(htmltext)[1]\n",
    "    data = pd.read_html(htmltext)[2]\n",
    "    student = pd.concat([data[3],data[4],data[5]], axis = 1)\n",
    "    course_detail = convertFirstRowToHeader(course_detail)\n",
    "    student = convertFirstRowToHeader(student)\n",
    "    temp = pd.concat([student, course_detail,pd.DataFrame({'termcode':[number[0]]})],axis = 1)\n",
    "    temp.iloc[1,13] = temp.iloc[0,13]\n",
    "    temp = temp[1:]\n",
    "    x = student.index.size\n",
    "    for i in range(0,x):\n",
    "        temp.iloc[i,3:] =  temp.iloc[0,3:]\n",
    "    df = pd.concat([df, temp])\n",
    "    line = f.readline()"
   ]
  },
  {
   "cell_type": "code",
   "execution_count": 5,
   "metadata": {
    "collapsed": false
   },
   "outputs": [],
   "source": [
    "f.close()"
   ]
  },
  {
   "cell_type": "code",
   "execution_count": 6,
   "metadata": {
    "collapsed": false,
    "scrolled": false
   },
   "outputs": [],
   "source": [
    "df.to_csv('shibberu_course_detail.csv')"
   ]
  },
  {
   "cell_type": "code",
   "execution_count": null,
   "metadata": {
    "collapsed": false,
    "scrolled": true
   },
   "outputs": [],
   "source": []
  },
  {
   "cell_type": "code",
   "execution_count": null,
   "metadata": {
    "collapsed": false
   },
   "outputs": [],
   "source": []
  },
  {
   "cell_type": "code",
   "execution_count": null,
   "metadata": {
    "collapsed": false
   },
   "outputs": [],
   "source": []
  },
  {
   "cell_type": "code",
   "execution_count": null,
   "metadata": {
    "collapsed": false
   },
   "outputs": [],
   "source": []
  },
  {
   "cell_type": "code",
   "execution_count": null,
   "metadata": {
    "collapsed": true
   },
   "outputs": [],
   "source": []
  }
 ],
 "metadata": {
  "kernelspec": {
   "display_name": "Python 2",
   "language": "python",
   "name": "python2"
  },
  "language_info": {
   "codemirror_mode": {
    "name": "ipython",
    "version": 2
   },
   "file_extension": ".py",
   "mimetype": "text/x-python",
   "name": "python",
   "nbconvert_exporter": "python",
   "pygments_lexer": "ipython2",
   "version": "2.7.11"
  }
 },
 "nbformat": 4,
 "nbformat_minor": 0
}
